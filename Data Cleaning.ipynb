{
 "cells": [
  {
   "cell_type": "markdown",
   "id": "0a7b0ea3",
   "metadata": {},
   "source": [
    "The purpose of my two data-sets here is to see if there's any way to measure the greatest determining factor in loan approvals based on the data gathered. There's an accepted and rejected data-set that documented all approvals and rejections from 2007 to 2018. I'll be assuming that not all of 2007 and 2018 are accounted for. I begin by reading the 2 data-sets into dataframes."
   ]
  },
  {
   "cell_type": "code",
   "execution_count": 1,
   "id": "70e1bc2a",
   "metadata": {},
   "outputs": [],
   "source": [
    "import pandas as pd"
   ]
  },
  {
   "cell_type": "code",
   "execution_count": 2,
   "id": "3cf9396e",
   "metadata": {},
   "outputs": [
    {
     "name": "stderr",
     "output_type": "stream",
     "text": [
      "C:\\ProgramData\\Anaconda3\\lib\\site-packages\\IPython\\core\\interactiveshell.py:3444: DtypeWarning: Columns (0,19,49,59,118,129,130,131,134,135,136,139,145,146,147) have mixed types.Specify dtype option on import or set low_memory=False.\n",
      "  exec(code_obj, self.user_global_ns, self.user_ns)\n"
     ]
    },
    {
     "data": {
      "text/plain": [
       "id                                                                                     68355089\n",
       "member_id                                                                                   NaN\n",
       "loan_amnt                                                                               24700.0\n",
       "funded_amnt                                                                             24700.0\n",
       "funded_amnt_inv                                                                         24700.0\n",
       "term                                                                                  36 months\n",
       "int_rate                                                                                  11.99\n",
       "installment                                                                              820.28\n",
       "grade                                                                                         C\n",
       "sub_grade                                                                                    C1\n",
       "emp_title                                                                              Engineer\n",
       "emp_length                                                                            10+ years\n",
       "home_ownership                                                                         MORTGAGE\n",
       "annual_inc                                                                              65000.0\n",
       "verification_status                                                                Not Verified\n",
       "issue_d                                                                                Dec-2015\n",
       "loan_status                                                                          Fully Paid\n",
       "pymnt_plan                                                                                    n\n",
       "url                                           https://lendingclub.com/browse/loanDetail.acti...\n",
       "desc                                                                                        NaN\n",
       "purpose                                                                          small_business\n",
       "title                                                                                  Business\n",
       "zip_code                                                                                  577xx\n",
       "addr_state                                                                                   SD\n",
       "dti                                                                                       16.06\n",
       "delinq_2yrs                                                                                 1.0\n",
       "earliest_cr_line                                                                       Dec-1999\n",
       "fico_range_low                                                                            715.0\n",
       "fico_range_high                                                                           719.0\n",
       "inq_last_6mths                                                                              4.0\n",
       "mths_since_last_delinq                                                                      6.0\n",
       "mths_since_last_record                                                                      NaN\n",
       "open_acc                                                                                   22.0\n",
       "pub_rec                                                                                     0.0\n",
       "revol_bal                                                                               21470.0\n",
       "revol_util                                                                                 19.2\n",
       "total_acc                                                                                  38.0\n",
       "initial_list_status                                                                           w\n",
       "out_prncp                                                                                   0.0\n",
       "out_prncp_inv                                                                               0.0\n",
       "total_pymnt                                                                            25679.66\n",
       "total_pymnt_inv                                                                        25679.66\n",
       "total_rec_prncp                                                                         24700.0\n",
       "total_rec_int                                                                            979.66\n",
       "total_rec_late_fee                                                                          0.0\n",
       "recoveries                                                                                  0.0\n",
       "collection_recovery_fee                                                                     0.0\n",
       "last_pymnt_d                                                                           Jun-2016\n",
       "last_pymnt_amnt                                                                          926.35\n",
       "next_pymnt_d                                                                                NaN\n",
       "last_credit_pull_d                                                                     Mar-2019\n",
       "last_fico_range_high                                                                      699.0\n",
       "last_fico_range_low                                                                       695.0\n",
       "collections_12_mths_ex_med                                                                  0.0\n",
       "mths_since_last_major_derog                                                                 NaN\n",
       "policy_code                                                                                 1.0\n",
       "application_type                                                                     Individual\n",
       "annual_inc_joint                                                                            NaN\n",
       "dti_joint                                                                                   NaN\n",
       "verification_status_joint                                                                   NaN\n",
       "acc_now_delinq                                                                              0.0\n",
       "tot_coll_amt                                                                                0.0\n",
       "tot_cur_bal                                                                            204396.0\n",
       "open_acc_6m                                                                                 1.0\n",
       "open_act_il                                                                                 1.0\n",
       "open_il_12m                                                                                 0.0\n",
       "open_il_24m                                                                                 1.0\n",
       "mths_since_rcnt_il                                                                         19.0\n",
       "total_bal_il                                                                            18005.0\n",
       "il_util                                                                                    73.0\n",
       "open_rv_12m                                                                                 2.0\n",
       "open_rv_24m                                                                                 3.0\n",
       "max_bal_bc                                                                               6472.0\n",
       "all_util                                                                                   29.0\n",
       "total_rev_hi_lim                                                                       111800.0\n",
       "inq_fi                                                                                      0.0\n",
       "total_cu_tl                                                                                 0.0\n",
       "inq_last_12m                                                                                6.0\n",
       "acc_open_past_24mths                                                                        4.0\n",
       "avg_cur_bal                                                                              9733.0\n",
       "bc_open_to_buy                                                                          57830.0\n",
       "bc_util                                                                                    27.1\n",
       "chargeoff_within_12_mths                                                                    0.0\n",
       "delinq_amnt                                                                                 0.0\n",
       "mo_sin_old_il_acct                                                                        113.0\n",
       "mo_sin_old_rev_tl_op                                                                      192.0\n",
       "mo_sin_rcnt_rev_tl_op                                                                       2.0\n",
       "mo_sin_rcnt_tl                                                                              2.0\n",
       "mort_acc                                                                                    4.0\n",
       "mths_since_recent_bc                                                                        2.0\n",
       "mths_since_recent_bc_dlq                                                                    NaN\n",
       "mths_since_recent_inq                                                                       0.0\n",
       "mths_since_recent_revol_delinq                                                              6.0\n",
       "num_accts_ever_120_pd                                                                       0.0\n",
       "num_actv_bc_tl                                                                              5.0\n",
       "num_actv_rev_tl                                                                             5.0\n",
       "num_bc_sats                                                                                13.0\n",
       "num_bc_tl                                                                                  17.0\n",
       "num_il_tl                                                                                   6.0\n",
       "num_op_rev_tl                                                                              20.0\n",
       "num_rev_accts                                                                              27.0\n",
       "num_rev_tl_bal_gt_0                                                                         5.0\n",
       "num_sats                                                                                   22.0\n",
       "num_tl_120dpd_2m                                                                            0.0\n",
       "num_tl_30dpd                                                                                0.0\n",
       "num_tl_90g_dpd_24m                                                                          0.0\n",
       "num_tl_op_past_12m                                                                          2.0\n",
       "pct_tl_nvr_dlq                                                                             97.4\n",
       "percent_bc_gt_75                                                                            7.7\n",
       "pub_rec_bankruptcies                                                                        0.0\n",
       "tax_liens                                                                                   0.0\n",
       "tot_hi_cred_lim                                                                        314017.0\n",
       "total_bal_ex_mort                                                                       39475.0\n",
       "total_bc_limit                                                                          79300.0\n",
       "total_il_high_credit_limit                                                              24667.0\n",
       "revol_bal_joint                                                                             NaN\n",
       "sec_app_fico_range_low                                                                      NaN\n",
       "sec_app_fico_range_high                                                                     NaN\n",
       "sec_app_earliest_cr_line                                                                    NaN\n",
       "sec_app_inq_last_6mths                                                                      NaN\n",
       "sec_app_mort_acc                                                                            NaN\n",
       "sec_app_open_acc                                                                            NaN\n",
       "sec_app_revol_util                                                                          NaN\n",
       "sec_app_open_act_il                                                                         NaN\n",
       "sec_app_num_rev_accts                                                                       NaN\n",
       "sec_app_chargeoff_within_12_mths                                                            NaN\n",
       "sec_app_collections_12_mths_ex_med                                                          NaN\n",
       "sec_app_mths_since_last_major_derog                                                         NaN\n",
       "hardship_flag                                                                                 N\n",
       "hardship_type                                                                               NaN\n",
       "hardship_reason                                                                             NaN\n",
       "hardship_status                                                                             NaN\n",
       "deferral_term                                                                               NaN\n",
       "hardship_amount                                                                             NaN\n",
       "hardship_start_date                                                                         NaN\n",
       "hardship_end_date                                                                           NaN\n",
       "payment_plan_start_date                                                                     NaN\n",
       "hardship_length                                                                             NaN\n",
       "hardship_dpd                                                                                NaN\n",
       "hardship_loan_status                                                                        NaN\n",
       "orig_projected_additional_accrued_interest                                                  NaN\n",
       "hardship_payoff_balance_amount                                                              NaN\n",
       "hardship_last_payment_amount                                                                NaN\n",
       "disbursement_method                                                                        Cash\n",
       "debt_settlement_flag                                                                          N\n",
       "debt_settlement_flag_date                                                                   NaN\n",
       "settlement_status                                                                           NaN\n",
       "settlement_date                                                                             NaN\n",
       "settlement_amount                                                                           NaN\n",
       "settlement_percentage                                                                       NaN\n",
       "settlement_term                                                                             NaN\n",
       "Name: 1, dtype: object"
      ]
     },
     "execution_count": 2,
     "metadata": {},
     "output_type": "execute_result"
    }
   ],
   "source": [
    "data1=pd.read_csv(\"accepted_2007_to_2018Q4.csv\")\n",
    "pd.options.display.max_rows=999\n",
    "data1.loc[1]"
   ]
  },
  {
   "cell_type": "code",
   "execution_count": 3,
   "id": "eed1b88d",
   "metadata": {},
   "outputs": [
    {
     "data": {
      "text/plain": [
       "Amount Requested                    1000.0\n",
       "Application Date                2007-05-26\n",
       "Loan Title              Consolidating Debt\n",
       "Risk_Score                           703.0\n",
       "Debt-To-Income Ratio                   10%\n",
       "Zip Code                             010xx\n",
       "State                                   MA\n",
       "Employment Length                 < 1 year\n",
       "Policy Code                            0.0\n",
       "Name: 1, dtype: object"
      ]
     },
     "execution_count": 3,
     "metadata": {},
     "output_type": "execute_result"
    }
   ],
   "source": [
    "data2=pd.read_csv(\"rejected_2007_to_2018Q4.csv\")\n",
    "pd.options.display.max_rows=999\n",
    "data2.loc[1]"
   ]
  },
  {
   "cell_type": "markdown",
   "id": "19090b76",
   "metadata": {},
   "source": [
    "The 'accepted' data-set has many more items tracked than the 'rejected' one. I'll make a new dataframe that only includes measurements from the 'accepted' data-set that overlap ones from 'rejected', keeping all of the ones from 'rejected' for now. From here now on, I'll be referring to the 'accepted' data-set as data1 and the 'rejected' data-set as data2."
   ]
  },
  {
   "cell_type": "code",
   "execution_count": 4,
   "id": "e25f41ec",
   "metadata": {},
   "outputs": [],
   "source": [
    "data1=data1[['loan_amnt','issue_d','title','fico_range_low','dti','zip_code','addr_state','emp_length','policy_code']]"
   ]
  },
  {
   "cell_type": "markdown",
   "id": "f6fd39f0",
   "metadata": {},
   "source": [
    "I need to combine the two data-sets, so I'll start by checking the types to see if they can cleanly be combined."
   ]
  },
  {
   "cell_type": "code",
   "execution_count": 5,
   "id": "704d8c89",
   "metadata": {},
   "outputs": [
    {
     "data": {
      "text/plain": [
       "loan_amnt         float64\n",
       "issue_d            object\n",
       "title              object\n",
       "fico_range_low    float64\n",
       "dti               float64\n",
       "zip_code           object\n",
       "addr_state         object\n",
       "emp_length         object\n",
       "policy_code       float64\n",
       "dtype: object"
      ]
     },
     "execution_count": 5,
     "metadata": {},
     "output_type": "execute_result"
    }
   ],
   "source": [
    "data1.dtypes"
   ]
  },
  {
   "cell_type": "code",
   "execution_count": 6,
   "id": "27910cdd",
   "metadata": {},
   "outputs": [
    {
     "data": {
      "text/plain": [
       "Amount Requested        float64\n",
       "Application Date         object\n",
       "Loan Title               object\n",
       "Risk_Score              float64\n",
       "Debt-To-Income Ratio     object\n",
       "Zip Code                 object\n",
       "State                    object\n",
       "Employment Length        object\n",
       "Policy Code             float64\n",
       "dtype: object"
      ]
     },
     "execution_count": 6,
     "metadata": {},
     "output_type": "execute_result"
    }
   ],
   "source": [
    "data2.dtypes"
   ]
  },
  {
   "cell_type": "markdown",
   "id": "624e3aea",
   "metadata": {},
   "source": [
    "'Debt-To-Income Ratio' is of type 'object' while 'dti' is of type 'float64'. I check the unique values of 'Debt-To-Income Ratio' to see why it isn't of type 'float64'."
   ]
  },
  {
   "cell_type": "code",
   "execution_count": 7,
   "id": "c0c89903",
   "metadata": {},
   "outputs": [
    {
     "data": {
      "text/plain": [
       "array(['10%', '38.64%', '9.43%', ..., '1986.02%', '1154.55%', '21215.75%'],\n",
       "      dtype=object)"
      ]
     },
     "execution_count": 7,
     "metadata": {},
     "output_type": "execute_result"
    }
   ],
   "source": [
    "data2['Debt-To-Income Ratio'].unique()"
   ]
  },
  {
   "cell_type": "markdown",
   "id": "437f3561",
   "metadata": {},
   "source": [
    "I can see that there are '$' symbols attached to each value. I take those out, and check the types again."
   ]
  },
  {
   "cell_type": "code",
   "execution_count": 8,
   "id": "c1bd0f37",
   "metadata": {},
   "outputs": [],
   "source": [
    "nosymb=data2['Debt-To-Income Ratio'].str.replace('%','')\n",
    "data2['Debt-To-Income Ratio']=pd.to_numeric(nosymb)"
   ]
  },
  {
   "cell_type": "code",
   "execution_count": 9,
   "id": "10fd89d1",
   "metadata": {},
   "outputs": [
    {
     "data": {
      "text/plain": [
       "Amount Requested        float64\n",
       "Application Date         object\n",
       "Loan Title               object\n",
       "Risk_Score              float64\n",
       "Debt-To-Income Ratio    float64\n",
       "Zip Code                 object\n",
       "State                    object\n",
       "Employment Length        object\n",
       "Policy Code             float64\n",
       "dtype: object"
      ]
     },
     "execution_count": 9,
     "metadata": {},
     "output_type": "execute_result"
    }
   ],
   "source": [
    "data2.dtypes"
   ]
  },
  {
   "cell_type": "markdown",
   "id": "59f86a07",
   "metadata": {},
   "source": [
    "Now that the values are of the same types, I can start readying the data-sets for being combined. The names of the columns in the data1 are heavily abbreviated and less easy to read than the columns from data2. I'll rename the columns from data1 with the names from data2."
   ]
  },
  {
   "cell_type": "code",
   "execution_count": 10,
   "id": "1428fe7e",
   "metadata": {},
   "outputs": [
    {
     "data": {
      "text/plain": [
       "Amount Requested        float64\n",
       "Application Date         object\n",
       "Loan Title               object\n",
       "Risk_Score              float64\n",
       "Debt-To-Income Ratio    float64\n",
       "Zip Code                 object\n",
       "State                    object\n",
       "Employment Length        object\n",
       "Policy Code             float64\n",
       "dtype: object"
      ]
     },
     "execution_count": 10,
     "metadata": {},
     "output_type": "execute_result"
    }
   ],
   "source": [
    "new_names=data2.columns\n",
    "old_names=data1.columns\n",
    "\n",
    "data1 = data1.rename(columns=dict(zip(old_names,new_names)))\n",
    "data1.dtypes"
   ]
  },
  {
   "cell_type": "markdown",
   "id": "aeeefa90",
   "metadata": {},
   "source": [
    "Next I'll be taking a look at the dates. The ones from data1 are formatted as 'Dec-2015' for example while the ones from data2 '2007-05-26'. I'll be reformatting both into quarters for easier evaluation later."
   ]
  },
  {
   "cell_type": "code",
   "execution_count": 11,
   "id": "51ddf48b",
   "metadata": {},
   "outputs": [],
   "source": [
    "data1['Application Date']=pd.to_datetime(data1['Application Date'],format=\"%b-%Y\")\n",
    "data1['Application Date']=pd.PeriodIndex(data1['Application Date'],freq='Q')"
   ]
  },
  {
   "cell_type": "code",
   "execution_count": 12,
   "id": "000bd49d",
   "metadata": {},
   "outputs": [],
   "source": [
    "data2['Application Date']=pd.to_datetime(data2['Application Date'],format=\"%Y-%m-%d\")\n",
    "data2['Application Date']=pd.PeriodIndex(data2['Application Date'],freq='Q')"
   ]
  },
  {
   "cell_type": "markdown",
   "id": "3ecc23fe",
   "metadata": {},
   "source": [
    "The final step will be to make two new columns for each data-set to help differentiate which rows represent an approved loan and which applications were rejected. I'll be giving accepted applications a value of 1 and rejected applications a value of 0. The new column for each data-set will be called 'Accepted'."
   ]
  },
  {
   "cell_type": "code",
   "execution_count": 13,
   "id": "375aca68",
   "metadata": {},
   "outputs": [],
   "source": [
    "data1['Accepted']=1\n",
    "data2['Accepted']=0"
   ]
  },
  {
   "cell_type": "markdown",
   "id": "6a1a463b",
   "metadata": {},
   "source": [
    "We're now ready to combine the two data-sets. The combined data-set will be referred to as data_final going forward."
   ]
  },
  {
   "cell_type": "code",
   "execution_count": 14,
   "id": "5eabab98",
   "metadata": {},
   "outputs": [],
   "source": [
    "data_final=data2.append(data1,ignore_index=True)"
   ]
  },
  {
   "cell_type": "markdown",
   "id": "70586b2d",
   "metadata": {},
   "source": [
    "To make 'Employment Length' easier to graph, I'll be replacing all of the string values with integers."
   ]
  },
  {
   "cell_type": "code",
   "execution_count": 15,
   "id": "d2d6d17a",
   "metadata": {},
   "outputs": [
    {
     "name": "stderr",
     "output_type": "stream",
     "text": [
      "C:\\Users\\ALEXAN~1\\AppData\\Local\\Temp/ipykernel_11860/783076285.py:2: FutureWarning: The default value of regex will change from True to False in a future version.\n",
      "  temp=pd.to_numeric(temp['Employment Length'].str.replace('\\+ years',''))\n"
     ]
    }
   ],
   "source": [
    "temp=data_final[data_final['Employment Length']=='10+ years']\n",
    "temp=pd.to_numeric(temp['Employment Length'].str.replace('\\+ years',''))\n",
    "temp2=data_final[data_final['Employment Length']=='<1 year']\n",
    "temp3=data_final[data_final['Employment Length']=='1 year']\n",
    "temp2=pd.to_numeric(temp2['Employment Length'].str.replace('<1 year',''))\n",
    "temp3=pd.to_numeric(temp3['Employment Length'].str.replace(' year',''))\n",
    "tempb2=data_final[data_final['Employment Length']=='2 years']\n",
    "tempb3=data_final[data_final['Employment Length']=='3 years']\n",
    "tempb4=data_final[data_final['Employment Length']=='4 years']\n",
    "tempb5=data_final[data_final['Employment Length']=='5 years']\n",
    "tempb6=data_final[data_final['Employment Length']=='6 years']\n",
    "tempb7=data_final[data_final['Employment Length']=='7 years']\n",
    "tempb8=data_final[data_final['Employment Length']=='8 years']\n",
    "tempb9=data_final[data_final['Employment Length']=='9 years']\n",
    "tempb2=pd.to_numeric(tempb2['Employment Length'].str.replace(' years', ''))\n",
    "tempb3=pd.to_numeric(tempb3['Employment Length'].str.replace(' years', ''))\n",
    "tempb4=pd.to_numeric(tempb4['Employment Length'].str.replace(' years', ''))\n",
    "tempb5=pd.to_numeric(tempb5['Employment Length'].str.replace(' years', ''))\n",
    "tempb6=pd.to_numeric(tempb6['Employment Length'].str.replace(' years', ''))\n",
    "tempb7=pd.to_numeric(tempb7['Employment Length'].str.replace(' years', ''))\n",
    "tempb8=pd.to_numeric(tempb8['Employment Length'].str.replace(' years', ''))\n",
    "tempb9=pd.to_numeric(tempb9['Employment Length'].str.replace(' years', ''))"
   ]
  },
  {
   "cell_type": "code",
   "execution_count": 16,
   "id": "873beab7",
   "metadata": {},
   "outputs": [],
   "source": [
    "df1 = temp.append(temp2)\n",
    "df2 = df1.append(temp3)\n",
    "df3 = df2.append(tempb2)\n",
    "df4 = df3.append(tempb3)\n",
    "df5 = df4.append(tempb4)\n",
    "df6 = df5.append(tempb5)\n",
    "df7 = df6.append(tempb6)\n",
    "df8 = df7.append(tempb7)\n",
    "df9 = df8.append(tempb8)\n",
    "df = df9.append(tempb9)"
   ]
  },
  {
   "cell_type": "code",
   "execution_count": 17,
   "id": "d5ffea7b",
   "metadata": {},
   "outputs": [],
   "source": [
    "data_final['Employment_Length']=df"
   ]
  },
  {
   "cell_type": "code",
   "execution_count": 18,
   "id": "2d5b91e3",
   "metadata": {},
   "outputs": [],
   "source": [
    "data_final=data_final.drop('Employment Length',axis=1)"
   ]
  },
  {
   "cell_type": "code",
   "execution_count": 19,
   "id": "3d1ca88b",
   "metadata": {},
   "outputs": [],
   "source": [
    "data_final['Employment_Length']=data_final['Employment_Length'].fillna(0)"
   ]
  },
  {
   "cell_type": "markdown",
   "id": "9a380d1a",
   "metadata": {},
   "source": [
    "Next, I'll start checking to see if there are any outliers that need to be eliminated by graphing them agains the number of approved loans."
   ]
  },
  {
   "cell_type": "code",
   "execution_count": 20,
   "id": "f759e570",
   "metadata": {},
   "outputs": [
    {
     "data": {
      "text/plain": [
       "<AxesSubplot:xlabel='Accepted', ylabel='Amount Requested'>"
      ]
     },
     "execution_count": 20,
     "metadata": {},
     "output_type": "execute_result"
    },
    {
     "data": {
      "image/png": "[encoded data removed]",
      "text/plain": [
       "<Figure size 432x288 with 1 Axes>"
      ]
     },
     "metadata": {
      "needs_background": "light"
     },
     "output_type": "display_data"
    }
   ],
   "source": [
    "import matplotlib.pyplot as plt\n",
    "plt.rcParams['agg.path.chunksize']=10000\n",
    "data_final.plot(x='Accepted',y='Amount Requested',kind='scatter')"
   ]
  },
  {
   "cell_type": "markdown",
   "id": "cfb8b8f3",
   "metadata": {},
   "source": [
    "Loan amounts above 300,000 were rarely requested."
   ]
  },
  {
   "cell_type": "code",
   "execution_count": 28,
   "id": "89e2d887",
   "metadata": {},
   "outputs": [
    {
     "data": {
      "text/plain": [
       "<AxesSubplot:xlabel='Accepted', ylabel='Risk_Score'>"
      ]
     },
     "execution_count": 28,
     "metadata": {},
     "output_type": "execute_result"
    },
    {
     "data": {
      "image/png": "[encoded data removed]",
      "text/plain": [
       "<Figure size 432x288 with 1 Axes>"
      ]
     },
     "metadata": {
      "needs_background": "light"
     },
     "output_type": "display_data"
    }
   ],
   "source": [
    "data_final.plot(x='Accepted',y='Risk_Score',kind='scatter')"
   ]
  },
  {
   "cell_type": "markdown",
   "id": "e6e19f21",
   "metadata": {},
   "source": [
    "Risk scores below 300 are rare as well."
   ]
  },
  {
   "cell_type": "code",
   "execution_count": 29,
   "id": "07bd9d0e",
   "metadata": {},
   "outputs": [
    {
     "data": {
      "text/plain": [
       "<AxesSubplot:xlabel='Accepted', ylabel='Debt-To-Income Ratio'>"
      ]
     },
     "execution_count": 29,
     "metadata": {},
     "output_type": "execute_result"
    },
    {
     "data": {
      "image/png": "[encoded data removed]",
      "text/plain": [
       "<Figure size 432x288 with 1 Axes>"
      ]
     },
     "metadata": {
      "needs_background": "light"
     },
     "output_type": "display_data"
    }
   ],
   "source": [
    "data_final.plot(x='Accepted',y='Debt-To-Income Ratio',kind='scatter')"
   ]
  },
  {
   "cell_type": "markdown",
   "id": "e5e5f557",
   "metadata": {},
   "source": [
    "A dti above 5,000,000 is irrelevant."
   ]
  },
  {
   "cell_type": "code",
   "execution_count": 30,
   "id": "2412c786",
   "metadata": {},
   "outputs": [
    {
     "data": {
      "text/plain": [
       "<AxesSubplot:xlabel='Accepted', ylabel='Policy Code'>"
      ]
     },
     "execution_count": 30,
     "metadata": {},
     "output_type": "execute_result"
    },
    {
     "data": {
      "image/png": "[encoded data removed]",
      "text/plain": [
       "<Figure size 432x288 with 1 Axes>"
      ]
     },
     "metadata": {
      "needs_background": "light"
     },
     "output_type": "display_data"
    }
   ],
   "source": [
    "data_final.plot(x='Accepted',y='Policy Code',kind='scatter')"
   ]
  },
  {
   "cell_type": "markdown",
   "id": "ee4cb6bc",
   "metadata": {},
   "source": [
    "The policy code itself seems irrelevant here."
   ]
  },
  {
   "cell_type": "code",
   "execution_count": 31,
   "id": "c22ba18f",
   "metadata": {},
   "outputs": [
    {
     "data": {
      "text/plain": [
       "<AxesSubplot:xlabel='Accepted', ylabel='Employment_Length'>"
      ]
     },
     "execution_count": 31,
     "metadata": {},
     "output_type": "execute_result"
    },
    {
     "data": {
      "image/png": "[encoded data removed]",
      "text/plain": [
       "<Figure size 432x288 with 1 Axes>"
      ]
     },
     "metadata": {
      "needs_background": "light"
     },
     "output_type": "display_data"
    }
   ],
   "source": [
    "data_final.plot(x='Accepted',y='Employment_Length',kind='scatter')"
   ]
  },
  {
   "cell_type": "markdown",
   "id": "43b4f800",
   "metadata": {},
   "source": [
    "Looks like people from all employment lengths were accepted. That's all I can graph directly, so I'll begin removing the outliers."
   ]
  },
  {
   "cell_type": "code",
   "execution_count": 20,
   "id": "2e875acd",
   "metadata": {},
   "outputs": [],
   "source": [
    "data_final=data_final.drop('Policy Code',axis=1)"
   ]
  },
  {
   "cell_type": "code",
   "execution_count": 21,
   "id": "ee0b1cca",
   "metadata": {},
   "outputs": [],
   "source": [
    "test_df=data_final[data_final['Amount Requested']<300000]"
   ]
  },
  {
   "cell_type": "code",
   "execution_count": 22,
   "id": "ef4b6afc",
   "metadata": {},
   "outputs": [
    {
     "data": {
      "text/plain": [
       "<bound method NDFrame.head of           Amount Requested Application Date                        Loan Title  \\\n",
       "0                   1000.0           2007Q2  Wedding Covered but No Honeymoon   \n",
       "1                   1000.0           2007Q2                Consolidating Debt   \n",
       "2                  11000.0           2007Q2       Want to consolidate my debt   \n",
       "3                   6000.0           2007Q2                           waksman   \n",
       "4                   1500.0           2007Q2                            mdrigo   \n",
       "...                    ...              ...                               ...   \n",
       "29909435           24000.0           2016Q4                  Home improvement   \n",
       "29909436           24000.0           2016Q4                Debt consolidation   \n",
       "29909437           40000.0           2016Q4                               NaN   \n",
       "29909438           24000.0           2016Q4                Debt consolidation   \n",
       "29909439           14000.0           2016Q4                               NaN   \n",
       "\n",
       "          Risk_Score  Debt-To-Income Ratio Zip Code State  Accepted  \\\n",
       "0              693.0                 10.00    481xx    NM         0   \n",
       "1              703.0                 10.00    010xx    MA         0   \n",
       "2              715.0                 10.00    212xx    MD         0   \n",
       "3              698.0                 38.64    017xx    MA         0   \n",
       "4              509.0                  9.43    209xx    MD         0   \n",
       "...              ...                   ...      ...   ...       ...   \n",
       "29909435       665.0                 19.61    356xx    AL         1   \n",
       "29909436       695.0                 34.94    840xx    UT         1   \n",
       "29909437       705.0                 12.75    907xx    CA         1   \n",
       "29909438       660.0                 18.30    334xx    FL         1   \n",
       "29909439       660.0                 23.36    770xx    TX         1   \n",
       "\n",
       "          Employment_Length  \n",
       "0                       4.0  \n",
       "1                       0.0  \n",
       "2                       1.0  \n",
       "3                       0.0  \n",
       "4                       0.0  \n",
       "...                     ...  \n",
       "29909435                7.0  \n",
       "29909436               10.0  \n",
       "29909437                9.0  \n",
       "29909438                6.0  \n",
       "29909439               10.0  \n",
       "\n",
       "[29892207 rows x 9 columns]>"
      ]
     },
     "execution_count": 22,
     "metadata": {},
     "output_type": "execute_result"
    }
   ],
   "source": [
    "test_df.head"
   ]
  },
  {
   "cell_type": "code",
   "execution_count": 36,
   "id": "035cb92e",
   "metadata": {},
   "outputs": [
    {
     "data": {
      "text/plain": [
       "<AxesSubplot:xlabel='Accepted', ylabel='Amount Requested'>"
      ]
     },
     "execution_count": 36,
     "metadata": {},
     "output_type": "execute_result"
    },
    {
     "data": {
      "image/png": "[encoded data removed]",
      "text/plain": [
       "<Figure size 432x288 with 1 Axes>"
      ]
     },
     "metadata": {
      "needs_background": "light"
     },
     "output_type": "display_data"
    }
   ],
   "source": [
    "test_df.plot(x='Accepted',y='Amount Requested',kind='scatter')"
   ]
  },
  {
   "cell_type": "code",
   "execution_count": 23,
   "id": "fa86caba",
   "metadata": {},
   "outputs": [],
   "source": [
    "test_df=test_df.dropna()"
   ]
  },
  {
   "cell_type": "markdown",
   "id": "958201f7",
   "metadata": {},
   "source": [
    "Now I'll drop the null values from the data-set."
   ]
  },
  {
   "cell_type": "code",
   "execution_count": 24,
   "id": "9a1a71a4",
   "metadata": {},
   "outputs": [],
   "source": [
    "data_final=test_df"
   ]
  },
  {
   "cell_type": "code",
   "execution_count": 25,
   "id": "6048c5e3",
   "metadata": {},
   "outputs": [
    {
     "data": {
      "text/plain": [
       "<bound method NDFrame.head of           Amount Requested Application Date                        Loan Title  \\\n",
       "0                   1000.0           2007Q2  Wedding Covered but No Honeymoon   \n",
       "1                   1000.0           2007Q2                Consolidating Debt   \n",
       "2                  11000.0           2007Q2       Want to consolidate my debt   \n",
       "3                   6000.0           2007Q2                           waksman   \n",
       "4                   1500.0           2007Q2                            mdrigo   \n",
       "...                    ...              ...                               ...   \n",
       "29909433           16000.0           2016Q4                  Medical expenses   \n",
       "29909434           24000.0           2016Q4           Credit card refinancing   \n",
       "29909435           24000.0           2016Q4                  Home improvement   \n",
       "29909436           24000.0           2016Q4                Debt consolidation   \n",
       "29909438           24000.0           2016Q4                Debt consolidation   \n",
       "\n",
       "          Risk_Score  Debt-To-Income Ratio Zip Code State  Accepted  \\\n",
       "0              693.0                 10.00    481xx    NM         0   \n",
       "1              703.0                 10.00    010xx    MA         0   \n",
       "2              715.0                 10.00    212xx    MD         0   \n",
       "3              698.0                 38.64    017xx    MA         0   \n",
       "4              509.0                  9.43    209xx    MD         0   \n",
       "...              ...                   ...      ...   ...       ...   \n",
       "29909433       665.0                 12.25    284xx    NC         1   \n",
       "29909434       725.0                 10.98    967xx    HI         1   \n",
       "29909435       665.0                 19.61    356xx    AL         1   \n",
       "29909436       695.0                 34.94    840xx    UT         1   \n",
       "29909438       660.0                 18.30    334xx    FL         1   \n",
       "\n",
       "          Employment_Length  \n",
       "0                       4.0  \n",
       "1                       0.0  \n",
       "2                       1.0  \n",
       "3                       0.0  \n",
       "4                       0.0  \n",
       "...                     ...  \n",
       "29909433               10.0  \n",
       "29909434                4.0  \n",
       "29909435                7.0  \n",
       "29909436               10.0  \n",
       "29909438                6.0  \n",
       "\n",
       "[11386711 rows x 9 columns]>"
      ]
     },
     "execution_count": 25,
     "metadata": {},
     "output_type": "execute_result"
    }
   ],
   "source": [
    "data_final.head"
   ]
  },
  {
   "cell_type": "markdown",
   "id": "8b62470f",
   "metadata": {},
   "source": [
    "Even after dropping the null values, data_final still has over 11,000,000 values."
   ]
  },
  {
   "cell_type": "code",
   "execution_count": 26,
   "id": "496b2b40",
   "metadata": {},
   "outputs": [
    {
     "data": {
      "text/plain": [
       "50000031.49"
      ]
     },
     "execution_count": 26,
     "metadata": {},
     "output_type": "execute_result"
    }
   ],
   "source": [
    "data_final['Debt-To-Income Ratio'].max()"
   ]
  },
  {
   "cell_type": "code",
   "execution_count": 27,
   "id": "9cb737b3",
   "metadata": {},
   "outputs": [
    {
     "data": {
      "text/plain": [
       "-1.0"
      ]
     },
     "execution_count": 27,
     "metadata": {},
     "output_type": "execute_result"
    }
   ],
   "source": [
    "data_final['Debt-To-Income Ratio'].min()"
   ]
  },
  {
   "cell_type": "code",
   "execution_count": 28,
   "id": "76bd20c9",
   "metadata": {},
   "outputs": [],
   "source": [
    "data_final=data_final[data_final['Debt-To-Income Ratio']<5000000]"
   ]
  },
  {
   "cell_type": "code",
   "execution_count": 43,
   "id": "6fc02b21",
   "metadata": {},
   "outputs": [
    {
     "data": {
      "text/plain": [
       "<AxesSubplot:xlabel='Accepted', ylabel='Debt-To-Income Ratio'>"
      ]
     },
     "execution_count": 43,
     "metadata": {},
     "output_type": "execute_result"
    },
    {
     "data": {
      "image/png": "[encoded data removed]",
      "text/plain": [
       "<Figure size 432x288 with 1 Axes>"
      ]
     },
     "metadata": {
      "needs_background": "light"
     },
     "output_type": "display_data"
    }
   ],
   "source": [
    "data_final.plot(x='Accepted',y='Debt-To-Income Ratio',kind='scatter')"
   ]
  },
  {
   "cell_type": "code",
   "execution_count": 29,
   "id": "10020f6d",
   "metadata": {},
   "outputs": [],
   "source": [
    "data_final=data_final[data_final['Risk_Score']>300]"
   ]
  },
  {
   "cell_type": "code",
   "execution_count": 45,
   "id": "a4ab9166",
   "metadata": {},
   "outputs": [
    {
     "data": {
      "text/plain": [
       "<AxesSubplot:xlabel='Accepted', ylabel='Risk_Score'>"
      ]
     },
     "execution_count": 45,
     "metadata": {},
     "output_type": "execute_result"
    },
    {
     "data": {
      "image/png": "[encoded data removed]",
      "text/plain": [
       "<Figure size 432x288 with 1 Axes>"
      ]
     },
     "metadata": {
      "needs_background": "light"
     },
     "output_type": "display_data"
    }
   ],
   "source": [
    "data_final.plot(x='Accepted',y='Risk_Score',kind='scatter')"
   ]
  },
  {
   "cell_type": "markdown",
   "id": "31386058",
   "metadata": {},
   "source": [
    "Now that the outliers from the integer based values have been dropped, let's take a smaller sample of the data. Even 1/10th of the original size will be plenty for the learning model."
   ]
  },
  {
   "cell_type": "code",
   "execution_count": 30,
   "id": "f49bbe50",
   "metadata": {},
   "outputs": [
    {
     "data": {
      "text/plain": [
       "<bound method NDFrame.head of           Amount Requested Application Date               Loan Title  \\\n",
       "7895694             8000.0           2014Q1                   moving   \n",
       "19758627            5000.0           2017Q4         Medical expenses   \n",
       "27738728           24000.0           2015Q4       Debt consolidation   \n",
       "28282802           25000.0           2017Q3  Credit card refinancing   \n",
       "6822550            20000.0           2018Q3                    Other   \n",
       "...                    ...              ...                      ...   \n",
       "10845805            1000.0           2018Q1           Major purchase   \n",
       "8362378            25000.0           2014Q2       debt_consolidation   \n",
       "28805338           28000.0           2014Q4       Debt consolidation   \n",
       "7150331            10000.0           2013Q2            Consolidation   \n",
       "28039815            8500.0           2015Q1  Credit card refinancing   \n",
       "\n",
       "          Risk_Score  Debt-To-Income Ratio Zip Code State  Accepted  \\\n",
       "7895694        518.0                  1.54    760xx    TX         0   \n",
       "19758627       568.0                  1.94    897xx    NV         0   \n",
       "27738728       730.0                  0.84    913xx    CA         1   \n",
       "28282802       675.0                 28.24    283xx    NC         1   \n",
       "6822550        640.0                 15.83    365xx    AL         0   \n",
       "...              ...                   ...      ...   ...       ...   \n",
       "10845805       550.0                  0.00    152xx    PA         0   \n",
       "8362378        640.0                 13.14    532xx    WI         0   \n",
       "28805338       680.0                 12.58    633xx    MO         1   \n",
       "7150331        668.0                 12.84    245xx    VA         0   \n",
       "28039815       735.0                 22.67    020xx    MA         1   \n",
       "\n",
       "          Employment_Length  \n",
       "7895694                 0.0  \n",
       "19758627                0.0  \n",
       "27738728               10.0  \n",
       "28282802               10.0  \n",
       "6822550                 0.0  \n",
       "...                     ...  \n",
       "10845805                0.0  \n",
       "8362378                 0.0  \n",
       "28805338               10.0  \n",
       "7150331                10.0  \n",
       "28039815                4.0  \n",
       "\n",
       "[1129975 rows x 9 columns]>"
      ]
     },
     "execution_count": 30,
     "metadata": {},
     "output_type": "execute_result"
    }
   ],
   "source": [
    "sample_test_df=data_final.sample(frac=.1)\n",
    "sample_test_df.head"
   ]
  },
  {
   "cell_type": "code",
   "execution_count": 31,
   "id": "8de14744",
   "metadata": {},
   "outputs": [],
   "source": [
    "data_final=sample_test_df"
   ]
  },
  {
   "cell_type": "markdown",
   "id": "a4e5ea52",
   "metadata": {},
   "source": [
    "The data is clean, so I'll export it for use in a different notebook. This large data-set has pushed this current notebook to its limit."
   ]
  },
  {
   "cell_type": "code",
   "execution_count": 32,
   "id": "9d869750",
   "metadata": {},
   "outputs": [],
   "source": [
    "data_final.to_csv('cleaned_data.csv')"
   ]
  }
 ],
 "metadata": {
  "kernelspec": {
   "display_name": "Python 3 (ipykernel)",
   "language": "python",
   "name": "python3"
  },
  "language_info": {
   "codemirror_mode": {
    "name": "ipython",
    "version": 3
   },
   "file_extension": ".py",
   "mimetype": "text/x-python",
   "name": "python",
   "nbconvert_exporter": "python",
   "pygments_lexer": "ipython3",
   "version": "3.9.7"
  }
 },
 "nbformat": 4,
 "nbformat_minor": 5
}
